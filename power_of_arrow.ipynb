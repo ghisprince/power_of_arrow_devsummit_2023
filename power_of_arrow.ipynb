{
 "cells": [
  {
   "cell_type": "markdown",
   "id": "5bcaf604-70da-4469-8934-e27f8a4ff9ff",
   "metadata": {
    "tags": []
   },
   "source": [
    "# Power of Arrow\n",
    " - intro to Arrow\n",
    " - using arrow with ArcGIS"
   ]
  },
  {
   "cell_type": "markdown",
   "id": "6775c69e-deaf-40bb-aebb-62ed85a4daac",
   "metadata": {
    "tags": []
   },
   "source": [
    "## intro to Arrow\n",
    " - what is Apache Arrow\n",
    "    - [arrow.apache.org/overview](https://arrow.apache.org/overview/)\n",
    "    - [Apache Arrow page on wikipedia](https://en.wikipedia.org/wiki/Apache_Arrow)\n",
    " - more about Arrow\n",
    "    - [github.com/apache/arrow](https://github.com/apache/arrow) \n",
    "    - 1000 contributors\n",
    "    - apache2 license\n",
    "    - commercial support by **Voltron Data**\n",
    " - goals\n",
    "    - interop and connectivity\n",
    "    - high performance query and processing\n"
   ]
  },
  {
   "cell_type": "markdown",
   "id": "6b6b0fe1-ee31-44bd-a929-ebeeb4cfce13",
   "metadata": {},
   "source": [
    "## using arrow with ArcGIS\n",
    " - installing arrow (included in arcgispro-py3)\n",
    " - getting data from ArcGIS to arrow\n",
    " - getting data from arrow to ArcGIS\n",
    " "
   ]
  },
  {
   "cell_type": "code",
   "execution_count": null,
   "id": "03a4544c-f529-4848-874c-e0ad4c90d23a",
   "metadata": {},
   "outputs": [],
   "source": [
    "import pyarrow as pa\n",
    "import arcpy\n",
    "import os\n",
    "import sys"
   ]
  },
  {
   "cell_type": "markdown",
   "id": "12243e32-97d1-4a66-995e-a4a3b2a657d8",
   "metadata": {
    "tags": []
   },
   "source": [
    "# getting data from ArcGIS to arrow\n",
    "\n",
    " - `arcpy.da.TableToArrowTable`\n",
    " - [documentation for TableToArrowTable](https://pro.arcgis.com/en/pro-app/latest/arcpy/data-access/tabletoarrowtable.htm)"
   ]
  },
  {
   "cell_type": "code",
   "execution_count": null,
   "id": "d2422a80-672f-48e1-b913-466546bcb6c4",
   "metadata": {},
   "outputs": [],
   "source": [
    "# describe data\n",
    "cwd = os.getcwd()\n",
    "fc = os.path.join(cwd, r\"f.gdb\\counties\")\n",
    "for i in arcpy.ListFields(fc):\n",
    "    print(f\"{i.name} {i.type}\")"
   ]
  },
  {
   "cell_type": "code",
   "execution_count": null,
   "id": "6cc727d9-85ed-44c9-9ae6-8f43fbf855c4",
   "metadata": {},
   "outputs": [],
   "source": [
    "# inspired by arcpy.da's Cursors and Numpy import/export\n",
    "patable = arcpy.da.TableToArrowTable(fc, [\"NAME\", \"Shape\", \"POP2000\"])"
   ]
  },
  {
   "cell_type": "code",
   "execution_count": null,
   "id": "12af0799-f9a3-40fd-ac4b-ef17d18eddc4",
   "metadata": {},
   "outputs": [],
   "source": [
    "patable"
   ]
  },
  {
   "cell_type": "code",
   "execution_count": null,
   "id": "ffae9b56-2e10-45db-bd48-b0c9feaf5b09",
   "metadata": {},
   "outputs": [],
   "source": [
    "patable.shape"
   ]
  },
  {
   "cell_type": "code",
   "execution_count": null,
   "id": "46f91be3-946d-4a59-bbbc-18636ff8ecc2",
   "metadata": {},
   "outputs": [],
   "source": [
    "# structs and ops\n",
    "import pyarrow.compute as pc\n",
    "\n",
    "for i in dir(pc): \n",
    "    if \"__\" in i: continue\n",
    "    print(i)"
   ]
  },
  {
   "cell_type": "code",
   "execution_count": null,
   "id": "713b885f-fe1a-4c15-873b-2d714a4f01e1",
   "metadata": {},
   "outputs": [],
   "source": [
    "pc.sum(patable[\"POP2000\"])"
   ]
  },
  {
   "cell_type": "markdown",
   "id": "6662246f-c93a-48ae-a683-54b3bfb4e0e9",
   "metadata": {
    "tags": []
   },
   "source": [
    "# more about arrow\n",
    " - arrow.apache.org's [pyarrow documentation](https://arrow.apache.org/docs/python/)\n",
    " - ArcGIS Pro 3.1 / Server 11.1 ship with Arrow **1.0.1**\n",
    " - ArcGIS Pro <i>next</i> / Server <i>next</i> evaluating Arrow **11.0.0**\n",
    " \n",
    "  \n",
    " ## pyarrow 1.0.0\n",
    "  - `pyarrow.compute` has **55** members\n",
    " \n",
    " ## pyarrow 11.0.0\n",
    "  - joins\n",
    "  - group_by & aggregate\n",
    "  - `pyarrow.compute` has **334** members"
   ]
  },
  {
   "cell_type": "code",
   "execution_count": null,
   "id": "b1653d75-676c-4606-a12d-d6391dfe2503",
   "metadata": {},
   "outputs": [],
   "source": [
    "print(f\"{sys.prefix}\")\n",
    "print(f\"{pa.__version__=}\")"
   ]
  },
  {
   "cell_type": "markdown",
   "id": "2eb776ed-d730-43b9-be4b-430cc81f43a8",
   "metadata": {},
   "source": [
    "### create env\n",
    " - cannot use with arcpy api\n",
    " - `conda create -p c:\\envs\\arrow11 pyarrow=11.0.0 -c conda-forge`"
   ]
  },
  {
   "cell_type": "markdown",
   "id": "0d45dbe6-fd80-45ad-9c5e-9751a236417c",
   "metadata": {},
   "source": [
    "# getting data from arrow to ArcGIS \n",
    " - Demo data: [TLC Trip Record Data](https://www.nyc.gov/site/tlc/about/tlc-trip-record-data.page)"
   ]
  },
  {
   "cell_type": "code",
   "execution_count": null,
   "id": "ca92166d-b8c5-4138-be96-3341165b34b2",
   "metadata": {},
   "outputs": [],
   "source": [
    "import pyarrow.parquet as pq\n",
    "table = pq.read_table(\"yellow_tripdata_2021-12.parquet\")\n",
    "table"
   ]
  },
  {
   "cell_type": "code",
   "execution_count": null,
   "id": "b2b4f04c-d2e6-490c-b358-48a3a27d14fe",
   "metadata": {},
   "outputs": [],
   "source": [
    "print(table.shape)"
   ]
  },
  {
   "cell_type": "code",
   "execution_count": null,
   "id": "88ecf4d7-cd58-447b-ad3f-f3659f09c79a",
   "metadata": {},
   "outputs": [],
   "source": [
    "table = pq.read_table(\"yellow_tripdata_2021-12.parquet\", \n",
    "                      columns=[\"PULocationID\", \"DOLocationID\", \"fare_amount\"], \n",
    "                      filters=[('DOLocationID','=',230)])\n",
    "print(table.shape)"
   ]
  },
  {
   "cell_type": "markdown",
   "id": "da80b982-bab4-441c-ad87-17e49d7c3d32",
   "metadata": {},
   "source": [
    "## arrow Table into arcpy functions (gp tools)\n",
    " - *as input to many row based operations*\n",
    " - `arcpy.CopyRows`\n",
    " - `arcpy.CopyFeatures`"
   ]
  },
  {
   "cell_type": "code",
   "execution_count": null,
   "id": "c2bda34a-efc1-4f70-a316-05e9ab7e3223",
   "metadata": {},
   "outputs": [],
   "source": [
    "# arrow table can be injested by GP tools\n",
    "arcpy.env.overwriteOutput = True\n",
    "out_tab = os.path.join(cwd, r\"f.gdb\\yellow_tripdata_2021_12\")\n",
    "arcpy.management.CopyRows(table, out_tab)  # <- THIS\n",
    "\n",
    "in_zones = os.path.join(cwd, r\"poarrow\\taxi_zones\\taxi_zones.shp\")\n",
    "out_tab_stats = os.path.join(cwd, r\"f.gdb\\yellow_tripdata_2021_12_stats\")\n",
    "\n",
    "# with more recent version would do this computation in arrow\n",
    "arcpy.analysis.Statistics(\n",
    "    in_table=out_tab,\n",
    "    out_table=out_tab_stats,\n",
    "    statistics_fields=\"PULocationID COUNT;fare_amount MIN;fare_amount MAX;fare_amount STD\",\n",
    "    case_field=\"PULocationID\")"
   ]
  },
  {
   "cell_type": "markdown",
   "id": "c5a9a764-3e13-4e7f-80d0-d69a330c43e5",
   "metadata": {
    "tags": []
   },
   "source": [
    "# More projects using Arrow\n",
    " - Esri\n",
    " - RAPIDS.AI\n",
    "     - GPU backed dataFrame by Nvidia\n",
    " - Pola.rs\n",
    "     - \"Lightning-fast DataFrame library for Rust and Python\"\n",
    "     - [www.pola.rs/](https://www.pola.rs/)\n",
    " - pandas 2.0\n",
    "     - built on NumPy but now with Arrow backend\n",
    "     - [datapythonista.me/blog](https://datapythonista.me/blog/pandas-20-and-the-arrow-revolution-part-i) by Marc Garcia\n",
    " - Wes McKinney\n",
    "     - [Apache Arrow and the \"10 Things I Hate About pandas\"](https://wesmckinney.com/blog/apache-arrow-pandas-internals/)\n",
    "     - [What is a pyarrow table? Will it be a replacement for pandas dataframes?](https://stackoverflow.com/questions/52873072/what-is-a-pyarrow-table-will-it-be-a-replacement-for-pandas-dataframes)"
   ]
  },
  {
   "cell_type": "code",
   "execution_count": null,
   "id": "3c6f862e-256e-4e62-b999-7231a73108a0",
   "metadata": {},
   "outputs": [],
   "source": []
  }
 ],
 "metadata": {
  "kernelspec": {
   "display_name": "Python 3 (ipykernel)",
   "language": "python",
   "name": "python3"
  },
  "language_info": {
   "codemirror_mode": {
    "name": "ipython",
    "version": 3
   },
   "file_extension": ".py",
   "mimetype": "text/x-python",
   "name": "python",
   "nbconvert_exporter": "python",
   "pygments_lexer": "ipython3",
   "version": "3.9.16"
  }
 },
 "nbformat": 4,
 "nbformat_minor": 5
}
